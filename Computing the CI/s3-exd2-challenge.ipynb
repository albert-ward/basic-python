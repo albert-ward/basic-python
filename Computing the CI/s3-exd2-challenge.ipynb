{
    "metadata": {
        "kernelspec": {
            "name": "python3",
            "display_name": "Python 3 (ipykernel)",
            "language": "python"
        }
    },
    "nbformat": 4,
    "nbformat_minor": 4,
    "cells": [
        {
            "cell_type": "code",
            "execution_count": 0,
            "metadata": {},
            "outputs": [],
            "source": [
                "# Import necessary libraries\n",
                "%matplotlib inline\n",
                "import numpy as np\n",
                "import pandas as pd\n",
                "from scipy import stats\n",
                "import matplotlib.pyplot as plt\n",
                "from sklearn import preprocessing\n",
                "from sklearn.metrics import mean_squared_error\n",
                "from sklearn.linear_model import LinearRegression\n",
                "from sklearn.model_selection import train_test_split\n",
                "from sklearn.preprocessing import PolynomialFeatures\n",
                ""
            ]
        },
        {
            "cell_type": "code",
            "execution_count": 0,
            "metadata": {},
            "outputs": [],
            "source": [
                "# Read the `Advertising.csv` dataframe\n",
                "df = pd.read_csv('Advertising.csv')\n",
                "\n",
                "# Take a quick look at the data\n",
                "df.head()\n",
                ""
            ]
        },
        {
            "cell_type": "code",
            "execution_count": 0,
            "metadata": {},
            "outputs": [],
            "source": [
                "# Helper function to compute the variance of the error term \n",
                "def error_func(y,y_p):\n",
                "    n = len(y)\n",
                "    return np.sqrt(np.sum((y-y_p)**2/(n-2)))\n",
                ""
            ]
        },
        {
            "cell_type": "code",
            "execution_count": 0,
            "metadata": {},
            "outputs": [],
            "source": [
                "# Set the number of bootstraps \n",
                "numboot = 1000\n",
                "\n",
                "# Set the budget of $1000 as per the instructions given \n",
                "# Use 2D list to facilitate model prediction \n",
                "# (sklearn.LinearRegression requires input as a 2d array)\n",
                "budget = [[1000]]\n",
                "\n",
                "# Initialize an empty list to store sales predictions for each bootstrap\n",
                "sales_list = []\n",
                ""
            ]
        },
        {
            "cell_type": "code",
            "execution_count": 0,
            "metadata": {},
            "outputs": [],
            "source": [
                "# Loop through each bootstrap i.e. loop for numboot times\n",
                "for i in ___:\n",
                "\n",
                "    # Create bootstrapped version of the data using the sample function from pandas\n",
                "    # Remember to replace the values while retaining the size of the \n",
                "    # original dataframe\n",
                "    df_new = ___\n",
                "\n",
                "    # Get the predictor data values ('TV') from the new bootstrapped data\n",
                "    # Use .values if you get warnings of feature names\n",
                "    x = df_new[[___]]\n",
                "\n",
                "    # Get the response data values ('Sales') from the new bootstrapped data\n",
                "    y = df_new.___\n",
                "\n",
                "    # Initialize a Linear Regression model\n",
                "    linreg = LinearRegression()\n",
                "\n",
                "    # Fit the model on the new data\n",
                "    linreg.fit(___,___)\n",
                "\n",
                "    # Predict on the bootstrapped data\n",
                "    y_pred = linreg.predict(x) \n",
                "\n",
                "    # Compute the error using the helper function error_func\n",
                "    error = np.random.normal(0,error_func(y,y_pred))\n",
                "\n",
                "    # Predict on the fixed budget from the original data\n",
                "    prediction = linreg.predict(budget)\n",
                "\n",
                "    # The final sales prediction is the sum of the model prediction \n",
                "    # and the error term\n",
                "    sales = ___\n",
                "\n",
                "    # Convert the sales to float type and append to the list\n",
                "    sales_list.append(___.astype(np.float64)[0])\n",
                ""
            ]
        },
        {
            "cell_type": "code",
            "execution_count": 0,
            "metadata": {},
            "outputs": [],
            "source": [
                "### edTest(test_sales) ###\n",
                "# Sort the list containing sales predictions in ascending order \n",
                "sales_list.sort()\n",
                "\n",
                "# Find the 95% confidence interval using the np.percentile function\n",
                "sales_CI_lower_bound = np.percentile(___, ___)\n",
                "sales_CI_upper_bound = np.percentile(___, ___) \n",
                "sales_CI = (___, ___)\n",
                ""
            ]
        },
        {
            "cell_type": "code",
            "execution_count": 0,
            "metadata": {},
            "outputs": [],
            "source": [
                "# Helper function to plot the histogram of sales prediction values \n",
                "# along with the 95% confidence interval\n",
                "def plot_simulation(simulation, confidence):\n",
                "    plt.hist(simulation, bins = 30, label = 'sales prediction distribution', align = 'left', density = True,edgecolor='k')\n",
                "    plt.axvline(confidence[1], 0, 1, color = 'r', label = '95% Confidence Interval')\n",
                "    plt.axvline(confidence[0], 0, 1, color = 'red')\n",
                "    plt.xlabel('Sales value')\n",
                "    plt.ylabel('Frequency')\n",
                "    plt.legend(frameon = False, loc = 'upper right')\n",
                "    plt.show();\n",
                "    "
            ]
        },
        {
            "cell_type": "code",
            "execution_count": 0,
            "metadata": {},
            "outputs": [],
            "source": [
                "# Call the plot_simulation function above with the computed sales \n",
                "# distribution and the confidence intervals computed earlier\n",
                "plot_simulation(sales_list,sales_CI)\n",
                ""
            ]
        },
        {
            "cell_type": "code",
            "execution_count": 0,
            "metadata": {},
            "outputs": [],
            "source": [
                "# Print the computed values\n",
                "print(f\"With a TV advertising budget of ${budget[0][0]},\")\n",
                "print(f\"we can expect an increase of sales anywhere between {sales_CI[0]:0.2f} to {sales_CI[1]:.2f}\\\n",
                " with a 95% confidence interval\")\n",
                " "
            ]
        },
        {
            "attachments": {},
            "cell_type": "markdown",
            "metadata": {},
            "source": [
                "⏸ The sales predictions here is based on the Simple-Linear regression model between `TV` and `Sales`. Re-run the above exercise by fitting the model considering all variables in `Advertising.csv`. \n",
                "\n",
                "Keep the budget the same, i.e $1000 for 'TV' advertising. \n",
                "You may have to change the `budget` variable to something like `[[1000,0,0]]` for proper computation.\n",
                "\n",
                "Does your predicted sales interval change?\n",
                "Why, or why not?"
            ]
        },
        {
            "cell_type": "code",
            "execution_count": 0,
            "metadata": {},
            "outputs": [],
            "source": [
                "### edTest(test_chow1) ###\n",
                "# Type your answer within in the quotes given\n",
                "answer1 = '___'\n",
                ""
            ]
        }
    ]
}
