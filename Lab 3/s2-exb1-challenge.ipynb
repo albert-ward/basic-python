{
    "metadata": {
        "kernelspec": {
            "name": "python3",
            "display_name": "Python 3 (ipykernel)",
            "language": "python"
        }
    },
    "nbformat": 4,
    "nbformat_minor": 4,
    "cells": [
        {
            "cell_type": "code",
            "execution_count": 0,
            "metadata": {},
            "outputs": [],
            "source": [
                "# Import necessary libraries\n",
                "import numpy as np\n",
                "import pandas as pd\n",
                "import matplotlib.pyplot as plt\n",
                "from sklearn.linear_model import LinearRegression\n",
                "from sklearn.model_selection import train_test_split\n",
                "from sklearn.preprocessing import PolynomialFeatures\n",
                "%matplotlib inline\n",
                ""
            ]
        },
        {
            "cell_type": "code",
            "execution_count": 0,
            "metadata": {},
            "outputs": [],
            "source": [
                "# Read the data from 'poly.csv' into a Pandas dataframe\n",
                "df = pd.read_csv('poly.csv')\n",
                "\n",
                "# Take a quick look at the dataframe\n",
                "df.head()\n",
                ""
            ]
        },
        {
            "cell_type": "code",
            "execution_count": 0,
            "metadata": {},
            "outputs": [],
            "source": [
                "# Get the column values for x \u0026 y as numpy arrays\n",
                "x = df[['x']].___\n",
                "y = df['y'].___\n",
                ""
            ]
        },
        {
            "cell_type": "code",
            "execution_count": 0,
            "metadata": {},
            "outputs": [],
            "source": [
                "# Helper code to plot x \u0026 y to visually inspect the data\n",
                "fig, ax = plt.subplots()\n",
                "ax.plot(x,y,'x')\n",
                "ax.set_xlabel('$x$ values')\n",
                "ax.set_ylabel('$y$ values')\n",
                "ax.set_title('$y$ vs $x$')\n",
                "plt.show();\n",
                ""
            ]
        },
        {
            "cell_type": "code",
            "execution_count": 0,
            "metadata": {},
            "outputs": [],
            "source": [
                "# Split the data into train and test sets\n",
                "# Set the train size to 0.8 and random state to 22\n",
                "x_train, x_test, y_train, y_test = train_test_split(___)\n",
                ""
            ]
        },
        {
            "cell_type": "code",
            "execution_count": 16,
            "metadata": {},
            "outputs": [],
            "source": [
                "# Initialize a linear model\n",
                "model = ____\n",
                "\n",
                "# Fit the model on the train data\n",
                "model.___(___)\n",
                "\n",
                "# Get the predictions on the test data using the trained model\n",
                "y_lin_pred = model.predict(___)\n",
                ""
            ]
        },
        {
            "cell_type": "code",
            "execution_count": 18,
            "metadata": {},
            "outputs": [],
            "source": [
                "### edTest(test_deg) ###\n",
                "\n",
                "# Guess the correct polynomial degree based on the above graph\n",
                "guess_degree = ___\n",
                "\n",
                "# Generate polynomial features on the train data for the degress guessed above\n",
                "x_poly_train= PolynomialFeatures(degree=guess_degree).fit_transform(___)\n",
                "\n",
                "# Generate polynomial features on the test data for the degress guessed above\n",
                "x_poly_test= PolynomialFeatures(degree=guess_degree).fit_transform(___)\n",
                ""
            ]
        },
        {
            "cell_type": "code",
            "execution_count": 19,
            "metadata": {},
            "outputs": [],
            "source": [
                "# Initialize a model to perform polynomial regression\n",
                "polymodel = LinearRegression()\n",
                "\n",
                "# Fit the model on the polynomial transformed train data\n",
                "polymodel.fit(___,___)\n",
                "\n",
                "# Predict on the entire polynomial transformed test data\n",
                "y_poly_pred = polymodel.predict(___)\n",
                ""
            ]
        },
        {
            "cell_type": "code",
            "execution_count": 20,
            "metadata": {},
            "outputs": [],
            "source": [
                "# Helper code to visualise the results\n",
                "idx = np.argsort(x_test[:,0])\n",
                "x_test = x_test[idx]\n",
                "\n",
                "# Use the above index to get the appropriate predicted values for y_test\n",
                "# y_test values corresponding to sorted test data\n",
                "y_test = y_test[idx]\n",
                "\n",
                "# Linear predicted values  \n",
                "y_lin_pred = y_lin_pred[idx]\n",
                "\n",
                "# Non-linear predicted values\n",
                "y_poly_pred= y_poly_pred[idx]\n",
                ""
            ]
        },
        {
            "cell_type": "code",
            "execution_count": 0,
            "metadata": {},
            "outputs": [],
            "source": [
                "# First plot x \u0026 y values from test set using plt.scatter\n",
                "plt.scatter(___, ___, s=10, label=\"Test Data\")\n",
                "\n",
                "# Plot the linear regression fit curve\n",
                "plt.plot(___,___,label=\"Linear fit\", color='k')\n",
                "\n",
                "# Plot the polynomial regression fit curve\n",
                "plt.plot(___, ___, label=\"Polynomial fit\", color='red', alpha=0.6)\n",
                "\n",
                "# Assigning labels to the axes\n",
                "plt.xlabel(\"x values\")\n",
                "plt.ylabel(\"y values\")\n",
                "plt.legend()\n",
                "plt.show();\n",
                ""
            ]
        },
        {
            "cell_type": "code",
            "execution_count": 10,
            "metadata": {},
            "outputs": [],
            "source": [
                "### edTest(test_poly_predictions) ###\n",
                "# Calculate the residual values for the polynomial model\n",
                "poly_residuals = ___\n",
                ""
            ]
        },
        {
            "cell_type": "code",
            "execution_count": 0,
            "metadata": {},
            "outputs": [],
            "source": [
                "### edTest(test_linear_predictions) ###\n",
                "# Calculate the residual values for the linear model\n",
                "lin_residuals = ___\n",
                ""
            ]
        },
        {
            "cell_type": "code",
            "execution_count": 0,
            "metadata": {},
            "outputs": [],
            "source": [
                "# Helper code to plot the residual values\n",
                "# Plot the histograms of the residuals for the two cases\n",
                "\n",
                "# Distribution of residuals\n",
                "fig, ax = plt.subplots(1,2, figsize = (10,4))\n",
                "bins = np.linspace(-20,20,20)\n",
                "ax[0].set_xlabel('Residuals')\n",
                "ax[0].set_ylabel('Frequency')\n",
                "\n",
                "# Plot the histograms for the polynomial regression\n",
                "ax[0].hist(___, bins, label = ___, color='#B2D7D0', alpha=0.6 , edgecolor='black')\n",
                "\n",
                "# Plot the histograms for the linear regression\n",
                "ax[0].hist(___, bins, label = ___, color='#EFAEA4', alpha=0.6, edgecolor= 'black')\n",
                "\n",
                "ax[0].legend(loc = 'upper left')\n",
                "\n",
                "# Distribution of predicted values with the residuals\n",
                "ax[1].scatter(y_poly_pred, poly_residuals, s=10, color='#B2D7D0', label='Polynomial predictions')\n",
                "ax[1].scatter(y_lin_pred, lin_residuals, s = 10, color='#EFAEA4', label='Linear predictions' )\n",
                "ax[1].set_xlim(-75,75)\n",
                "ax[1].axhline(y = 0, color = 'black', linestyle = 'dashed',label='Zero Residual')\n",
                "ax[1].set_xlabel('Predicted values')\n",
                "ax[1].set_ylabel('Residuals')\n",
                "ax[1].legend(loc = 'upper left')\n",
                "\n",
                "fig.suptitle('Residual Analysis (Linear vs Polynomial)')\n",
                "plt.show();\n",
                ""
            ]
        },
        {
            "attachments": {},
            "cell_type": "markdown",
            "metadata": {},
            "source": [
                "⏸ Do you think that polynomial degree is appropriate. Experiment with a degree of polynomial of 2 and comment on what you observe for the residuals? *Remember to set it back to your initial value before marking*"
            ]
        },
        {
            "cell_type": "code",
            "execution_count": 0,
            "metadata": {},
            "outputs": [],
            "source": [
                "### edTest(test_chow1) ###\n",
                "# Type your answer within in the quotes given\n",
                "answer1 = '___'\n",
                ""
            ]
        }
    ]
}
