{
    "metadata": {
        "kernelspec": {
            "name": "python3",
            "display_name": "Python 3 (ipykernel)",
            "language": "python"
        }
    },
    "nbformat": 4,
    "nbformat_minor": 4,
    "cells": [
        {
            "cell_type": "code",
            "execution_count": 39,
            "metadata": {
                "collapsed": true
            },
            "outputs": [],
            "source": [
                "# Import necessary libraries\n",
                "%matplotlib inline\n",
                "import operator\n",
                "import numpy as np\n",
                "import pandas as pd\n",
                "import matplotlib.pyplot as plt\n",
                "from sklearn.metrics import mean_squared_error\n",
                "from sklearn.linear_model import LinearRegression\n",
                "from sklearn.model_selection import cross_validate\n",
                "from sklearn.model_selection import train_test_split\n",
                "from sklearn.preprocessing import PolynomialFeatures\n",
                ""
            ]
        },
        {
            "attachments": {},
            "cell_type": "markdown",
            "metadata": {},
            "source": [
                "### Reading the dataset"
            ]
        },
        {
            "cell_type": "code",
            "execution_count": 40,
            "metadata": {
                "collapsed": true
            },
            "outputs": [],
            "source": [
                "# Read the file \"dataset.csv\" as a Pandas dataframe \n",
                "df = pd.read_csv(\"dataset.csv\")\n",
                ""
            ]
        },
        {
            "cell_type": "code",
            "execution_count": 41,
            "metadata": {
                "collapsed": true
            },
            "outputs": [],
            "source": [
                "# Assign the values of column x as the predictor\n",
                "x = df[['x']].values\n",
                "\n",
                "# Assign the values of column y as the response variable\n",
                "y = df.y.values\n",
                ""
            ]
        },
        {
            "attachments": {},
            "cell_type": "markdown",
            "metadata": {},
            "source": [
                "### Train-validation split"
            ]
        },
        {
            "cell_type": "code",
            "execution_count": 42,
            "metadata": {
                "collapsed": true
            },
            "outputs": [],
            "source": [
                "### edTest(test_random) ###\n",
                "# Split the data into train and validation sets with 75% for training \n",
                "# and with a random_state=1\n",
                "x_train, x_val, y_train, y_val = train_test_split(___)\n",
                ""
            ]
        },
        {
            "attachments": {},
            "cell_type": "markdown",
            "metadata": {},
            "source": [
                "### Computing the MSE"
            ]
        },
        {
            "cell_type": "code",
            "execution_count": 43,
            "metadata": {},
            "outputs": [],
            "source": [
                "### edTest(test_regression) ###\n",
                "\n",
                "# To iterate over the range, select the maximum degree of the polynomial\n",
                "maxdeg = 10\n",
                "\n",
                "# Create three empty lists to store training, validation and cross-validation MSEs\n",
                "training_error, validation_error, cross_validation_error = [],[],[]\n",
                "\n",
                "# Loop through the degrees of the polynomial\n",
                "for d in range(___):\n",
                "    \n",
                "    # Compute the polynomial features for the entire data\n",
                "    x_poly = PolynomialFeatures(___).fit_transform(___)\n",
                "\n",
                "    # Compute the polynomial features for the train data\n",
                "    x_poly_train = PolynomialFeatures(___).fit_transform(___)\n",
                "\n",
                "    # Compute the polynomial features for the validation data\n",
                "    x_poly_val = PolynomialFeatures(___).fit_transform(___)\n",
                "\n",
                "    # Initialize a Linear Regression object with fit_intercept as False\n",
                "    lreg = ___\n",
                "  \n",
                "    # Fit model on the training set\n",
                "    lreg.fit(___)\n",
                "\n",
                "    # Predict on the training data\n",
                "    y_train_pred = lreg.predict(___)\n",
                "\n",
                "    # Predict on the validation set\n",
                "    y_val_pred = lreg.predict(___)\n",
                "    \n",
                "    # Compute the mse on the train data\n",
                "    training_error.append(mean_squared_error(___))\n",
                "\n",
                "    # Compute the mse on the validation data\n",
                "    validation_error.append(mean_squared_error(___))\n",
                "    \n",
                "    # Perform cross-validation on the entire data with 10 folds and \n",
                "    # get the MSE scores\n",
                "    mse_score = cross_validate(___)\n",
                "\n",
                "    # Compute the mean of the cross validation error and store in list \n",
                "    # Remember to take into account the sign of the MSE metric returned by the cross_validate function \n",
                "    cross_validation_error.append(___)\n",
                "    "
            ]
        },
        {
            "attachments": {},
            "cell_type": "markdown",
            "metadata": {},
            "source": [
                "⏸️Why should  we keep fit_intercept = False, while creating the LinearRegression instance ?\n",
                "\n",
                "A. *It will refrain adding redundant information to our design matrix.*\n",
                "\n",
                "B. *There is no need of the bias term.*\n",
                "\n",
                "C. *Fitting the intercept is compute costly*\n",
                "\n",
                ""
            ]
        },
        {
            "cell_type": "code",
            "execution_count": 0,
            "metadata": {},
            "outputs": [],
            "source": [
                "### edTest(test_intercept) ###\n",
                "#Choose the most appropriate answer from above, if your choice is B put answer='B'. \n",
                "answer = '___'\n",
                ""
            ]
        },
        {
            "attachments": {},
            "cell_type": "markdown",
            "metadata": {},
            "source": [
                "**After submitting the exercise, see what changes do you observe in the model coeffcients on creating a polynomial regression model , with and without setting fit_intercept as False.**\n",
                "\n",
                "* To access beta values for predictors use: `model.coef_`\n",
                "\n",
                "\n",
                "\n",
                "\n",
                "* To access bias term / b0 use: `model.intercept_`\n",
                ""
            ]
        },
        {
            "attachments": {},
            "cell_type": "markdown",
            "metadata": {},
            "source": [
                "### Finding the best degree"
            ]
        },
        {
            "cell_type": "code",
            "execution_count": 0,
            "metadata": {},
            "outputs": [],
            "source": [
                "### edTest(test_best_degree) ###\n",
                "\n",
                "# Get the best degree associated with the lowest validation error\n",
                "min_mse = min(___)\n",
                "best_degree = validation_error.index(___)\n",
                "\n",
                "\n",
                "# Get the best degree associated with the lowest cross-validation error\n",
                "min_cross_val_mse = min(___)\n",
                "best_cross_val_degree = cross_validation_error.index(___)\n",
                "\n",
                "# Print the values\n",
                "print(\"The best degree of the model using validation is\",best_degree)\n",
                "print(\"The best degree of the model using cross-validation is\",best_cross_val_degree)\n",
                ""
            ]
        },
        {
            "attachments": {},
            "cell_type": "markdown",
            "metadata": {},
            "source": [
                "### Plotting the error graph"
            ]
        },
        {
            "cell_type": "code",
            "execution_count": 0,
            "metadata": {},
            "outputs": [],
            "source": [
                "# Plot the errors as a function of increasing d value to visualise the training and validation errors\n",
                "fig, ax = plt.subplots(1,2, figsize=(16,8))\n",
                "\n",
                "# Plot the training error with labels\n",
                "ax[0].plot(range(maxdeg), np.log(training_error), label = 'Training error', linewidth=3, color='#FF7E79', alpha=0.4)\n",
                "\n",
                "# Plot the validation error with labels\n",
                "ax[0].plot(range(maxdeg), np.log(validation_error), label = 'Validation error', linewidth=3, color=\"#007D66\", alpha=0.4)\n",
                "\n",
                "# Plot the training error with labels\n",
                "ax[1].plot(range(maxdeg), np.log(training_error), label = 'Training error', linewidth=3, color='#FF7E79', alpha=0.4)\n",
                "\n",
                "# Plot the cross-validation error with labels\n",
                "ax[1].plot(range(maxdeg), np.log(cross_validation_error), label = 'Cross-Validation error', linewidth=3, color=\"#007D66\", alpha=0.4)\n",
                "\n",
                "# Set the plot labels and legends\n",
                "ax[0].set_xlabel('Degree of Polynomial', fontsize=12)\n",
                "ax[0].set_ylabel('Log Mean Squared Error', fontsize=12)\n",
                "ax[0].set_title(\"Log of validation error as a function of degree\")\n",
                "\n",
                "ax[1].set_xlabel('Degree of Polynomial', fontsize=12)\n",
                "ax[1].set_ylabel('Log Mean Squared Error', fontsize=12)\n",
                "ax[1].set_title(\"Log of CV error as a function of degree\")\n",
                "\n",
                "ax[0].legend()\n",
                "ax[1].legend()\n",
                "plt.show();\n",
                ""
            ]
        },
        {
            "attachments": {},
            "cell_type": "markdown",
            "metadata": {},
            "source": [
                "⏸ If you run the exercise with a random state of 0, do you notice any change? What conclusion can you draw from this experiment?\n",
                ""
            ]
        },
        {
            "cell_type": "code",
            "execution_count": 0,
            "metadata": {},
            "outputs": [],
            "source": [
                "### edTest(test_chow1) ###\n",
                "# Submit an answer choice as a string below \n",
                "answer1 = '___'\n",
                ""
            ]
        }
    ]
}
