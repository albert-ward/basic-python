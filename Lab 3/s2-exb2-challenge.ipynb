{
    "metadata": {
        "kernelspec": {
            "name": "python3",
            "display_name": "Python 3 (ipykernel)",
            "language": "python"
        }
    },
    "nbformat": 4,
    "nbformat_minor": 4,
    "cells": [
        {
            "cell_type": "code",
            "execution_count": 0,
            "metadata": {},
            "outputs": [],
            "source": [
                "# Import necessary libraries\n",
                "import numpy as np\n",
                "import pandas as pd\n",
                "import seaborn as sns \n",
                "from pprint import pprint\n",
                "import matplotlib.pyplot as plt\n",
                "from sklearn.linear_model import LinearRegression\n",
                "%matplotlib inline\n",
                ""
            ]
        },
        {
            "cell_type": "code",
            "execution_count": 0,
            "metadata": {},
            "outputs": [],
            "source": [
                "# Read the file named \"colinearity.csv\" into a Pandas dataframe\n",
                "df = pd.read_csv(___)\n",
                ""
            ]
        },
        {
            "cell_type": "code",
            "execution_count": 0,
            "metadata": {},
            "outputs": [],
            "source": [
                "# Take a quick look at the dataset\n",
                "df.head()\n",
                ""
            ]
        },
        {
            "attachments": {},
            "cell_type": "markdown",
            "metadata": {},
            "source": [
                "#### Creation of Linear Regression Objects"
            ]
        },
        {
            "cell_type": "code",
            "execution_count": 0,
            "metadata": {},
            "outputs": [],
            "source": [
                "# Choose all the predictors as the variable 'X' \n",
                "# (note capitalization of X for multiple features)\n",
                "X = df.drop([___],axis=1)\n",
                "\n",
                "# Choose the response variable 'y' \n",
                "y = df.___\n",
                ""
            ]
        },
        {
            "cell_type": "code",
            "execution_count": 0,
            "metadata": {},
            "outputs": [],
            "source": [
                "### edTest(test_coeff) ###\n",
                "\n",
                "# Initialize a list to store the beta values for each linear \n",
                "# regression model\n",
                "linear_coef = []\n",
                "\n",
                "# Loop over all the predictors\n",
                "# In each loop \"i\" holds the name of the predictor \n",
                "for i in X:\n",
                "    \n",
                "    # Set the current predictor as the variable x\n",
                "    x = df[[___]]\n",
                "\n",
                "    # Create a linear regression object\n",
                "    linreg = ____\n",
                "\n",
                "    # Fit the model with training data \n",
                "    # Remember to choose only one column at a time i.e. given by x\n",
                "    linreg.fit(___,___)\n",
                "    \n",
                "    # Add the coefficient value of the model to the list\n",
                "    linear_coef.append(___)\n",
                ""
            ]
        },
        {
            "attachments": {},
            "cell_type": "markdown",
            "metadata": {},
            "source": [
                "### Multi-Linear Regression using all variables"
            ]
        },
        {
            "cell_type": "code",
            "execution_count": 0,
            "metadata": {},
            "outputs": [],
            "source": [
                "# Perform multi-linear regression with all predictors\n",
                "multi_linear = LinearRegression()\n",
                "\n",
                "# Fit the multi-linear regression on all features of the entire data\n",
                "multi_linear.fit(___,___)\n",
                "\n",
                "# Get the coefficients (plural) of the model\n",
                "multi_coef = ___\n",
                ""
            ]
        },
        {
            "attachments": {},
            "cell_type": "markdown",
            "metadata": {},
            "source": [
                "#### Printing the individual $\\beta$ values"
            ]
        },
        {
            "cell_type": "code",
            "execution_count": 0,
            "metadata": {},
            "outputs": [],
            "source": [
                "# Helper code to see the beta values of the linear regression models\n",
                "\n",
                "print('By simple(one variable) linear regression for each variable:', sep = '\\n')\n",
                "\n",
                "for i in range(4):\n",
                "    pprint(f'Value of beta{i+1} = {linear_coef[i][0]:.2f}')\n",
                ""
            ]
        },
        {
            "cell_type": "code",
            "execution_count": 0,
            "metadata": {},
            "outputs": [],
            "source": [
                "### edTest(test_multi_coeff) ###\n",
                "\n",
                "# Helper code to compare with the values from the multi-linear \n",
                "# regression\n",
                "print('By multi-Linear regression on all variables')\n",
                "for i in range(4):\n",
                "    pprint(f'Value of beta{i+1} = {round(multi_coef[i],2)}')\n",
                "    "
            ]
        },
        {
            "cell_type": "code",
            "execution_count": 0,
            "metadata": {},
            "outputs": [],
            "source": [
                "# Helper code to visualize the heatmap of the covariance matrix\n",
                "corrMatrix = df[['x1','x2','x3','x4']].corr() \n",
                "sns.heatmap(corrMatrix, annot=True) \n",
                "plt.show()\n",
                ""
            ]
        },
        {
            "attachments": {},
            "cell_type": "markdown",
            "metadata": {},
            "source": [
                "⏸ Why do you think the $\\beta$ values are different in the two cases?\n",
                "\n",
                "#### A. Because the random seed selected is not as random as we would imagine.\n",
                "#### B. Because of collinearity between $\\beta_1$ and $\\beta_4$\n",
                "#### C. Because multi-linear regression is not a stable model\n",
                "#### D. Because of the measurement error in the data\n",
                ""
            ]
        },
        {
            "cell_type": "code",
            "execution_count": 0,
            "metadata": {},
            "outputs": [],
            "source": [
                "### edTest(test_chow1) ###\n",
                "# Submit an answer choice as a string below \n",
                "# (Eg. if you choose option C, put 'C')\n",
                "answer1 = '___'\n",
                ""
            ]
        }
    ]
}
