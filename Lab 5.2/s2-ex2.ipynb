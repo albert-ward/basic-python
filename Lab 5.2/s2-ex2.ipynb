{
    "metadata": {
        "kernelspec": {
            "name": "python3",
            "display_name": "Python 3 (ipykernel)",
            "language": "python"
        }
    },
    "nbformat": 4,
    "nbformat_minor": 4,
    "cells": [
        {
            "cell_type": "code",
            "execution_count": 0,
            "metadata": {},
            "outputs": [],
            "source": [
                "# Import necessary libraries\n",
                "import pandas as pd\n",
                "import numpy as np\n",
                "import matplotlib.pyplot as plt\n",
                "from randomuniverse import RandomUniverse\n",
                "%matplotlib inline\n",
                ""
            ]
        },
        {
            "cell_type": "code",
            "execution_count": 0,
            "metadata": {},
            "outputs": [],
            "source": [
                "# Read the file \"Advertising_csv\"\n",
                "df = pd.read_csv('Advertising_adj.csv')\n",
                "\n",
                "# Take a quick look at the data\n",
                "df.head()\n",
                ""
            ]
        },
        {
            "cell_type": "code",
            "execution_count": 0,
            "metadata": {},
            "outputs": [],
            "source": [
                "# Define a bootstrap function, which takes as input a dataframe \n",
                "# It must output a bootstrapped version of the input dataframe\n",
                "# Check the exercise instructions for more hints\n",
                "def bootstrap(df):\n",
                "    selectionIndex = np.random.randint(___, ___, size=___)\n",
                "    new_df = df.iloc[___]\n",
                "    return new_df\n",
                ""
            ]
        },
        {
            "cell_type": "code",
            "execution_count": 0,
            "metadata": {},
            "outputs": [],
            "source": [
                "# Initialize two empty lists to store the beta values\n",
                "beta0_list, beta1_list = [],[]\n",
                "\n",
                "# Choose the number of \"parallel\" Universes to generate new versions of dataset\n",
                "number_of_bootstraps = 500\n",
                "\n",
                "# Loop through the number of bootstraps\n",
                "for i in range(number_of_bootstraps):\n",
                "\n",
                "    # Call the bootstrap function to get a bootstrapped version of the data\n",
                "    df_new = bootstrap(df)\n",
                "\n",
                "    #'X' is the predictor variable given by df_new.tv  \n",
                "    X = ___\n",
                "    \n",
                "    #'y' is the response variable given by df_new.sales \n",
                "    y = ___\n",
                "\n",
                "    # Find the mean of the predictor values i.e. tv\n",
                "    xmean = ___\n",
                "\n",
                "    # Find the mean of the response values i.e. sales\n",
                "    ymean = ___\n",
                "    \n",
                "    # Compute the analytical values of beta0 and beta1 using the \n",
                "    # equation given in the hints\n",
                "    beta1 = ___\n",
                "    beta0 = ___\n",
                "\n",
                "    # Append the calculated values of beta1 and beta0 to the appropriate lists\n",
                "    beta0_list.___\n",
                "    beta1_list.___\n",
                ""
            ]
        },
        {
            "cell_type": "code",
            "execution_count": 0,
            "metadata": {},
            "outputs": [],
            "source": [
                "### edTest(test_beta) ###\n",
                "\n",
                "# Compute the mean of the beta values\n",
                "beta0_mean = ___\n",
                "beta1_mean = ___\n",
                ""
            ]
        },
        {
            "cell_type": "code",
            "execution_count": 0,
            "metadata": {},
            "outputs": [],
            "source": [
                "# Plot histograms of beta_0 and beta_1 using lists created above \n",
                "\n",
                "fig, ax = plt.subplots(1,2, figsize=(18,8))\n",
                "ax[0].___\n",
                "ax[1].___\n",
                "ax[0].set_xlabel(___)\n",
                "ax[1].set_xlabel(___)\n",
                "ax[0].set_ylabel('Frequency')\n",
                "plt.show();\n",
                ""
            ]
        },
        {
            "attachments": {},
            "cell_type": "markdown",
            "metadata": {},
            "source": [
                "### Compare the plots with the results from the RandomUniverse() function"
            ]
        },
        {
            "cell_type": "code",
            "execution_count": 0,
            "metadata": {},
            "outputs": [],
            "source": [
                "# Helper code to visualise the similarity between the bootstrap\n",
                "# function here \u0026 the RandomUniverse() function from last exercise\n",
                "beta0_randUni, beta1_randUni = [],[]\n",
                "\n",
                "parallelUniverses = 500\n",
                "\n",
                "for i in range(parallelUniverses):\n",
                "    df_new = RandomUniverse(df)\n",
                "    \n",
                "    xmean = df_new.tv.mean()\n",
                "    ymean = df_new.sales.mean()\n",
                "\n",
                "    # Using linear algebra result as discussed in lecture\n",
                "    beta1 = (((df_new.tv - xmean)*(df_new.sales - ymean)).sum())/(((df_new.tv - xmean)**2).sum())\n",
                "    beta0 = ymean - beta1*xmean\n",
                "\n",
                "    beta0_randUni.append(beta0)\n",
                "    beta1_randUni.append(beta1)\n",
                ""
            ]
        },
        {
            "cell_type": "code",
            "execution_count": 0,
            "metadata": {},
            "outputs": [],
            "source": [
                "# Helper code to plot the bootstrapped beta values \u0026 the ones from random universe\n",
                "def plotmulti(list1, list2, beta_name):\n",
                "    fig, axes = plt.subplots(1,2, figsize = (10,4), sharey = 'row')\n",
                "    axes[0].hist(list1);\n",
                "    axes[0].set_xlabel(f'{beta_name} Distribution')\n",
                "    axes[0].set_ylabel('Frequency')\n",
                "    axes[0].set_title('Bootstrap')\n",
                "    axes[1].hist(list2);\n",
                "    axes[1].set_xlabel(f'{beta_name} Distribution')\n",
                "    axes[1].set_title('Random Universe')\n",
                "    plt.show();\n",
                ""
            ]
        },
        {
            "cell_type": "code",
            "execution_count": 0,
            "metadata": {},
            "outputs": [],
            "source": [
                "# Call the 'plotmulti' function above to compare the two histograms for beta0\n",
                "plotmulti(beta0_list, beta0_randUni, 'beta0')\n",
                ""
            ]
        },
        {
            "cell_type": "code",
            "execution_count": 0,
            "metadata": {},
            "outputs": [],
            "source": [
                "# Call the 'plotmulti' function above to compare the two histograms for beta1\n",
                "plotmulti(beta1_list, beta1_randUni, 'beta1')\n",
                ""
            ]
        }
    ]
}
