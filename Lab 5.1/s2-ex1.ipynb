{
    "metadata": {
        "kernelspec": {
            "name": "python3",
            "display_name": "Python 3 (ipykernel)",
            "language": "python"
        }
    },
    "nbformat": 4,
    "nbformat_minor": 4,
    "cells": [
        {
            "cell_type": "code",
            "execution_count": 0,
            "metadata": {},
            "outputs": [],
            "source": [
                "# Import necessary libraries\n",
                "import numpy as np\n",
                "import pandas as pd\n",
                "import matplotlib.pyplot as plt\n",
                "from randomuniverse import RandomUniverse\n",
                "%matplotlib inline\n",
                ""
            ]
        },
        {
            "cell_type": "code",
            "execution_count": 0,
            "metadata": {},
            "outputs": [],
            "source": [
                "# Read the advertising dataset as a pandas dataframe\n",
                "df = pd.read_csv('Advertising_adj.csv')\n",
                "\n",
                "# Take a quick look at the dataframe\n",
                "df.head()\n",
                ""
            ]
        },
        {
            "cell_type": "code",
            "execution_count": 0,
            "metadata": {},
            "outputs": [],
            "source": [
                "# Create two empty lists that will store the beta values\n",
                "beta0_list, beta1_list = [],[]\n",
                "\n",
                "# The number of \"parallel\" Universes (new versions of the dataset) to generate\n",
                "num_parallelUniverses = 100\n",
                "\n",
                "# Loop over the maximum number of parallel Universes\n",
                "for i in range(num_parallelUniverses):\n",
                "\n",
                "    # Call the RandomUniverse helper function with the dataframe \n",
                "    # to generate a new version of dataset\n",
                "    df_new = RandomUniverse(df)\n",
                "\n",
                "    #'X' is the predictor variable given by df_new.tv  \n",
                "    X = ___\n",
                "    \n",
                "    #'y' is the response variable given by df_new.sales \n",
                "    y = ___\n",
                "\n",
                "    # Find the mean of the predictor values i.e. tv\n",
                "    xmean = ___\n",
                "\n",
                "    # Find the mean of the response values i.e. sales\n",
                "    ymean = ___\n",
                "    \n",
                "    # Compute the analytical values of beta0 and beta1 using the \n",
                "    # equation given in the hints\n",
                "    beta1 = ___\n",
                "    beta0 = ___\n",
                "\n",
                "    # Append the calculated values of beta1 and beta0 to the appropriate lists\n",
                "    beta0_list.___\n",
                "    beta1_list.___\n",
                ""
            ]
        },
        {
            "cell_type": "code",
            "execution_count": 0,
            "metadata": {},
            "outputs": [],
            "source": [
                "### edTest(test_beta) ###\n",
                "\n",
                "# Compute the mean of the beta values\n",
                "beta0_mean = ___\n",
                "beta1_mean = ___\n",
                ""
            ]
        },
        {
            "cell_type": "code",
            "execution_count": 0,
            "metadata": {},
            "outputs": [],
            "source": [
                "# Plot histograms of beta_0 and beta_1 using lists created above \n",
                "fig, ax = plt.subplots(1,2, figsize=(18,8))\n",
                "ax[0].___\n",
                "ax[1].___\n",
                "ax[0].set_xlabel('Beta 0')\n",
                "ax[1].set_xlabel('Beta 1')\n",
                "ax[0].set_ylabel('Frequency');\n",
                ""
            ]
        },
        {
            "attachments": {},
            "cell_type": "markdown",
            "metadata": {},
            "source": [
                "⏸ Increase the number of parallelUniverses. Which of the following do you observe?\n",
                "\n",
                "A. The range of the distribution increases.\n",
                "\n",
                "B. The frequency of points decreases.\n",
                "\n",
                "C. The range of the distribution decreases.\n",
                "\n",
                "D. There is no significant change."
            ]
        },
        {
            "cell_type": "code",
            "execution_count": 0,
            "metadata": {},
            "outputs": [],
            "source": [
                "### edTest(test_chow1) ###\n",
                "# Submit an answer choice as a string below \n",
                "# (Eg. if you choose option C, put 'C')\n",
                "answer1 = '___'\n",
                ""
            ]
        }
    ]
}
