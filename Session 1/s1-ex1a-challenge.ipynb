{
    "metadata": {
        "kernelspec": {
            "name": "python3",
            "display_name": "Python 3 (ipykernel)",
            "language": "python"
        }
    },
    "nbformat": 4,
    "nbformat_minor": 2,
    "cells": [
        {
            "cell_type": "code",
            "execution_count": 0,
            "metadata": {},
            "outputs": [],
            "source": [
                "# Import necessary libraries\n",
                "import pandas as pd\n",
                "import matplotlib.pyplot as plt\n",
                "%matplotlib inline\n",
                ""
            ]
        },
        {
            "attachments": {},
            "cell_type": "markdown",
            "metadata": {},
            "source": [
                "### Reading the Advertisement dataset"
            ]
        },
        {
            "cell_type": "code",
            "execution_count": 0,
            "metadata": {},
            "outputs": [],
            "source": [
                "# \"Advertising.csv\" containts the data set used in this exercise\n",
                "data_filename = 'Advertising.csv'\n",
                "\n",
                "# Read the file \"Advertising.csv\" file using the pandas library\n",
                "df = pd.read_csv(___)\n",
                ""
            ]
        },
        {
            "cell_type": "code",
            "execution_count": 0,
            "metadata": {},
            "outputs": [],
            "source": [
                "# Get a quick look of observations in the data\n",
                "df.___\n",
                ""
            ]
        },
        {
            "cell_type": "code",
            "execution_count": 0,
            "metadata": {},
            "outputs": [],
            "source": [
                "### edTest(test_pandas) ###\n",
                "# Create a new dataframe by selecting the first 7 rows of\n",
                "# the current dataframe\n",
                "df_new = df.___\n",
                ""
            ]
        },
        {
            "cell_type": "code",
            "execution_count": 0,
            "metadata": {},
            "outputs": [],
            "source": [
                "# Print your new dataframe to see if you have selected 7 rows correctly\n",
                "print(___)\n",
                ""
            ]
        },
        {
            "attachments": {},
            "cell_type": "markdown",
            "metadata": {},
            "source": [
                "### Plotting the graph"
            ]
        },
        {
            "cell_type": "code",
            "execution_count": 0,
            "metadata": {},
            "outputs": [],
            "source": [
                "# Use a scatter plot for plotting a graph of TV vs Sales\n",
                "plt.___\n",
                "\n",
                "# Add axis labels for clarity (x : TV budget, y : Sales)\n",
                "plt.___\n",
                "plt.___\n",
                ""
            ]
        },
        {
            "attachments": {},
            "cell_type": "markdown",
            "metadata": {},
            "source": [
                "## Post-Exercise Question\n",
                "\n",
                "Instead of just plotting seven points, experiment to plot all points."
            ]
        },
        {
            "cell_type": "code",
            "execution_count": 0,
            "metadata": {},
            "outputs": [],
            "source": [
                "# Your code here\n",
                ""
            ]
        }
    ]
}
